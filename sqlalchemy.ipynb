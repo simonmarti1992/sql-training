{
 "cells": [
  {
   "cell_type": "markdown",
   "id": "32782299",
   "metadata": {},
   "source": [
    "## Connecting to a database\n",
    "To start interacting with the database we first we need to establish a connection.\n",
    "\n",
    "d'après :\n",
    "https://www.tutorialspoint.com/sqlalchemy/sqlalchemy_core_using_multiple_tables.htm"
   ]
  },
  {
   "cell_type": "code",
   "execution_count": 1,
   "id": "4bbd11fa",
   "metadata": {},
   "outputs": [],
   "source": [
    "import sqlalchemy as db\n",
    "# default\n",
    "engine = db.create_engine('sqlite:///college.db', echo = True)"
   ]
  },
  {
   "cell_type": "markdown",
   "id": "4adda561",
   "metadata": {},
   "source": [
    "## Creating Table Details\n",
    "SQLAlchemy can be used to automatically load tables from a database using something called reflection. Reflection is the process of reading the database and building the metadata based on that information."
   ]
  },
  {
   "cell_type": "code",
   "execution_count": 2,
   "id": "8992a1e3",
   "metadata": {},
   "outputs": [],
   "source": [
    "from sqlalchemy import MetaData\n",
    "meta = MetaData()"
   ]
  },
  {
   "cell_type": "code",
   "execution_count": 3,
   "id": "635f4d79",
   "metadata": {
    "scrolled": false
   },
   "outputs": [
    {
     "name": "stdout",
     "output_type": "stream",
     "text": [
      "2022-09-21 12:55:45,516 INFO sqlalchemy.engine.Engine BEGIN (implicit)\n",
      "2022-09-21 12:55:45,532 INFO sqlalchemy.engine.Engine PRAGMA main.table_info(\"students\")\n",
      "2022-09-21 12:55:45,532 INFO sqlalchemy.engine.Engine [raw sql] ()\n",
      "2022-09-21 12:55:45,540 INFO sqlalchemy.engine.Engine COMMIT\n"
     ]
    }
   ],
   "source": [
    "from sqlalchemy import Table, Column, Integer, String, MetaData\n",
    "meta = MetaData()\n",
    "\n",
    "students = Table(\n",
    "   'students', meta, \n",
    "   Column('id', Integer, primary_key = True), \n",
    "   Column('name', String), \n",
    "   Column('lastname', String), \n",
    ")\n",
    "meta.create_all(engine)"
   ]
  },
  {
   "cell_type": "markdown",
   "id": "780ec97f",
   "metadata": {},
   "source": [
    "## Insert items in database\n",
    "In this chapter, we will briefly focus on the SQL Expressions and their functions.\n",
    "\n",
    "SQL expressions are constructed using corresponding methods relative to target table objec.t For example, the INSERT statement is created by executing insert() method as follows −"
   ]
  },
  {
   "cell_type": "code",
   "execution_count": 4,
   "id": "e6b0354b",
   "metadata": {},
   "outputs": [],
   "source": [
    "ins = students.insert().values(name = 'Karan')"
   ]
  },
  {
   "cell_type": "markdown",
   "id": "efdf0455",
   "metadata": {},
   "source": [
    "In the previous chapter, we have learnt SQL Expressions. In this chapter, we shall look into the execution of these expressions.\n",
    "\n",
    "In order to execute the resulting SQL expressions, we have to obtain a connection object representing an actively checked out DBAPI connection resource and then feed the expression object as shown in the code below."
   ]
  },
  {
   "cell_type": "code",
   "execution_count": 5,
   "id": "81780d24",
   "metadata": {},
   "outputs": [],
   "source": [
    "conn = engine.connect()"
   ]
  },
  {
   "cell_type": "code",
   "execution_count": 6,
   "id": "3551bcaa",
   "metadata": {},
   "outputs": [
    {
     "name": "stdout",
     "output_type": "stream",
     "text": [
      "2022-09-21 12:55:46,986 INFO sqlalchemy.engine.Engine INSERT INTO students (name, lastname) VALUES (?, ?)\n",
      "2022-09-21 12:55:46,994 INFO sqlalchemy.engine.Engine [generated in 0.00476s] ('Ravi', 'Kapoor')\n",
      "2022-09-21 12:55:47,002 INFO sqlalchemy.engine.Engine COMMIT\n"
     ]
    }
   ],
   "source": [
    "ins = students.insert().values(name = 'Ravi', lastname = 'Kapoor')\n",
    "result = conn.execute(ins)"
   ]
  },
  {
   "cell_type": "markdown",
   "id": "5f1476cc",
   "metadata": {},
   "source": [
    "Following is the entire snippet that shows the execution of INSERT query using SQLAlchemy’s core technique"
   ]
  },
  {
   "cell_type": "code",
   "execution_count": 7,
   "id": "8ed6f609",
   "metadata": {},
   "outputs": [
    {
     "name": "stdout",
     "output_type": "stream",
     "text": [
      "2022-09-21 12:55:47,399 INFO sqlalchemy.engine.Engine INSERT INTO students (name, lastname) VALUES (?, ?)\n",
      "2022-09-21 12:55:47,399 INFO sqlalchemy.engine.Engine [generated in 0.00290s] ('Ravi', 'Kapoor')\n",
      "2022-09-21 12:55:47,407 INFO sqlalchemy.engine.Engine COMMIT\n"
     ]
    }
   ],
   "source": [
    "from sqlalchemy import create_engine, MetaData, Table, Column, Integer, String\n",
    "engine = create_engine('sqlite:///college.db', echo = True)\n",
    "meta = MetaData()\n",
    "\n",
    "students = Table(\n",
    "   'students', meta, \n",
    "   Column('id', Integer, primary_key = True), \n",
    "   Column('name', String), \n",
    "   Column('lastname', String), \n",
    ")\n",
    "\n",
    "ins = students.insert()\n",
    "ins = students.insert().values(name = 'Ravi', lastname = 'Kapoor')\n",
    "conn = engine.connect()\n",
    "result = conn.execute(ins)"
   ]
  },
  {
   "cell_type": "markdown",
   "id": "2643252d",
   "metadata": {},
   "source": [
    "To issue many inserts using DBAPI’s execute many() method, we can send in a list of dictionaries each containing a distinct set of parameters to be inserted."
   ]
  },
  {
   "cell_type": "code",
   "execution_count": 8,
   "id": "cc69b2ea",
   "metadata": {},
   "outputs": [
    {
     "name": "stdout",
     "output_type": "stream",
     "text": [
      "2022-09-21 12:55:47,803 INFO sqlalchemy.engine.Engine INSERT INTO students (name, lastname) VALUES (?, ?)\n",
      "2022-09-21 12:55:47,803 INFO sqlalchemy.engine.Engine [generated in 0.00319s] (('Rajiv', 'Khanna'), ('Komal', 'Bhandari'), ('Abdul', 'Sattar'), ('Priya', 'Rajhans'))\n",
      "2022-09-21 12:55:47,811 INFO sqlalchemy.engine.Engine COMMIT\n"
     ]
    },
    {
     "data": {
      "text/plain": [
       "<sqlalchemy.engine.cursor.LegacyCursorResult at 0x1a26b5ea610>"
      ]
     },
     "execution_count": 8,
     "metadata": {},
     "output_type": "execute_result"
    }
   ],
   "source": [
    "conn.execute(students.insert(), [\n",
    "   {'name':'Rajiv', 'lastname' : 'Khanna'},\n",
    "   {'name':'Komal','lastname' : 'Bhandari'},\n",
    "   {'name':'Abdul','lastname' : 'Sattar'},\n",
    "   {'name':'Priya','lastname' : 'Rajhans'},\n",
    "])"
   ]
  },
  {
   "cell_type": "markdown",
   "id": "45152f57",
   "metadata": {},
   "source": [
    "## In this chapter, we will discuss about the concept of selecting rows in the table object.\n",
    "\n",
    "The select() method of table object enables us to construct SELECT expression."
   ]
  },
  {
   "cell_type": "code",
   "execution_count": 9,
   "id": "74c164d8",
   "metadata": {},
   "outputs": [
    {
     "data": {
      "text/plain": [
       "'SELECT students.id, students.name, students.lastname \\nFROM students'"
      ]
     },
     "execution_count": 9,
     "metadata": {},
     "output_type": "execute_result"
    }
   ],
   "source": [
    "s = students.select()\n",
    "str(s)"
   ]
  },
  {
   "cell_type": "markdown",
   "id": "0a543564",
   "metadata": {},
   "source": [
    "### Complete code"
   ]
  },
  {
   "cell_type": "code",
   "execution_count": 26,
   "id": "af5e836a",
   "metadata": {},
   "outputs": [
    {
     "name": "stdout",
     "output_type": "stream",
     "text": [
      "2022-09-21 13:11:00,317 INFO sqlalchemy.engine.Engine SELECT students.id, students.name, students.lastname \n",
      "FROM students\n",
      "2022-09-21 13:11:00,317 INFO sqlalchemy.engine.Engine [generated in 0.00245s] ()\n",
      "(1, 'Ravi', 'Kapoor')\n",
      "(2, 'Ravi', 'Kapoor')\n",
      "(3, 'Rajiv', 'Kapoor')\n",
      "(4, 'Komal', 'Bhandari')\n",
      "(5, 'Abdul', 'Sattar')\n",
      "(6, 'Priya', 'Rajhans')\n",
      "(7, 'Ravi', 'Kapoor')\n",
      "(8, 'Ravi', 'Kapoor')\n",
      "(9, 'Rajiv', 'Kapoor')\n",
      "(10, 'Komal', 'Bhandari')\n",
      "(11, 'Abdul', 'Sattar')\n",
      "(12, 'Priya', 'Rajhans')\n",
      "(13, 'Ravi', 'Kapoor')\n",
      "(14, 'Ravi', 'Kapoor')\n",
      "(15, 'Rajiv', 'Kapoor')\n",
      "(16, 'Komal', 'Bhandari')\n",
      "(17, 'Abdul', 'Sattar')\n",
      "(18, 'Priya', 'Rajhans')\n",
      "(19, 'Ravi', 'Kapoor')\n",
      "(20, 'Ravi', 'Kapoor')\n",
      "(21, 'Rajiv', 'Kapoor')\n",
      "(22, 'Komal', 'Bhandari')\n",
      "(23, 'Abdul', 'Sattar')\n",
      "(24, 'Priya', 'Rajhans')\n",
      "(25, 'Ravi', 'Kapoor')\n",
      "(26, 'Ravi', 'Kapoor')\n",
      "(27, 'Rajiv', 'Kapoor')\n",
      "(28, 'Komal', 'Bhandari')\n",
      "(29, 'Abdul', 'Sattar')\n",
      "(30, 'Priya', 'Rajhans')\n",
      "(31, 'Ravi', 'Kapoor')\n",
      "(32, 'Ravi', 'Kapoor')\n",
      "(33, 'Rajiv', 'Kapoor')\n",
      "(34, 'Komal', 'Bhandari')\n",
      "(35, 'Abdul', 'Sattar')\n",
      "(36, 'Priya', 'Rajhans')\n",
      "(37, 'Ravi', 'Kapoor')\n",
      "(38, 'Ravi', 'Kapoor')\n",
      "(39, 'Rajiv', 'Kapoor')\n",
      "(40, 'Komal', 'Bhandari')\n",
      "(41, 'Abdul', 'Sattar')\n",
      "(42, 'Priya', 'Rajhans')\n"
     ]
    }
   ],
   "source": [
    "from sqlalchemy import create_engine, MetaData, Table, Column, Integer, String\n",
    "engine = create_engine('sqlite:///college.db', echo = True)\n",
    "meta = MetaData()\n",
    "\n",
    "students = Table(\n",
    "   'students', meta, \n",
    "   Column('id', Integer, primary_key = True), \n",
    "   Column('name', String), \n",
    "   Column('lastname', String), \n",
    ")\n",
    "\n",
    "s = students.select()\n",
    "conn = engine.connect()\n",
    "result = conn.execute(s)\n",
    "\n",
    "for row in result:\n",
    "   print (row)"
   ]
  },
  {
   "cell_type": "markdown",
   "id": "81f10f6b",
   "metadata": {},
   "source": [
    "The WHERE clause of SELECT query can be applied by using Select.where(). For example, if we want to display rows with id >2"
   ]
  },
  {
   "cell_type": "code",
   "execution_count": 11,
   "id": "2e3a068a",
   "metadata": {},
   "outputs": [
    {
     "name": "stdout",
     "output_type": "stream",
     "text": [
      "2022-09-21 12:55:49,350 INFO sqlalchemy.engine.Engine SELECT students.id, students.name, students.lastname \n",
      "FROM students \n",
      "WHERE students.id < ?\n",
      "2022-09-21 12:55:49,350 INFO sqlalchemy.engine.Engine [generated in 0.00353s] (5,)\n",
      "(1, 'Ravi', 'Kapoor')\n",
      "(2, 'Ravi', 'Kapoor')\n",
      "(3, 'Rajiv', 'Kapoor')\n",
      "(4, 'Komal', 'Bhandari')\n"
     ]
    }
   ],
   "source": [
    "# Here c attribute is an alias for column. Following output will be displayed on the shell\n",
    "s = students.select().where(students.c.id<5)\n",
    "result = conn.execute(s)\n",
    "\n",
    "for row in result:\n",
    "   print (row)"
   ]
  },
  {
   "cell_type": "markdown",
   "id": "d7bd4bdc",
   "metadata": {},
   "source": [
    "## SQLAlchemy lets you just use strings\n",
    "\n",
    "for those cases when the SQL is already known and there isn’t a strong need for the statement to support dynamic features. The text() construct is used to compose a textual statement that is passed to the database mostly unchanged.\n",
    "\n",
    "It constructs a new TextClause, representing a textual SQL string directly as shown in the below"
   ]
  },
  {
   "cell_type": "code",
   "execution_count": 12,
   "id": "ffd573c6",
   "metadata": {},
   "outputs": [
    {
     "name": "stdout",
     "output_type": "stream",
     "text": [
      "2022-09-21 12:55:49,886 INFO sqlalchemy.engine.Engine SELECT * FROM students\n",
      "2022-09-21 12:55:49,886 INFO sqlalchemy.engine.Engine [generated in 0.00329s] ()\n"
     ]
    }
   ],
   "source": [
    "from sqlalchemy import text\n",
    "t = text(\"SELECT * FROM students\")\n",
    "result = conn.execute(t)"
   ]
  },
  {
   "cell_type": "code",
   "execution_count": 13,
   "id": "67c895c0",
   "metadata": {},
   "outputs": [
    {
     "name": "stdout",
     "output_type": "stream",
     "text": [
      "2022-09-21 12:55:50,168 INFO sqlalchemy.engine.Engine select students.name, students.lastname from students where students.name between ? and ?\n",
      "2022-09-21 12:55:50,168 INFO sqlalchemy.engine.Engine [generated in 0.00394s] ('A', 'K')\n"
     ]
    },
    {
     "data": {
      "text/plain": [
       "[('Abdul', 'Sattar'),\n",
       " ('Abdul', 'Sattar'),\n",
       " ('Abdul', 'Sattar'),\n",
       " ('Abdul', 'Sattar'),\n",
       " ('Abdul', 'Sattar'),\n",
       " ('Abdul', 'Sattar'),\n",
       " ('Abdul', 'Sattar')]"
      ]
     },
     "execution_count": 13,
     "metadata": {},
     "output_type": "execute_result"
    }
   ],
   "source": [
    "#version compacte\n",
    "from sqlalchemy.sql import text\n",
    "s = text(\"select students.name, students.lastname from students where students.name between :x and :y\")\n",
    "conn.execute(s, x = 'A', y = 'K').fetchall()"
   ]
  },
  {
   "cell_type": "code",
   "execution_count": 14,
   "id": "e3338855",
   "metadata": {},
   "outputs": [
    {
     "name": "stdout",
     "output_type": "stream",
     "text": [
      "2022-09-21 12:55:50,397 INFO sqlalchemy.engine.Engine SELECT * FROM students WHERE students.name BETWEEN ? AND ?\n",
      "2022-09-21 12:55:50,409 INFO sqlalchemy.engine.Engine [generated in 0.00411s] ('A', 'L')\n"
     ]
    }
   ],
   "source": [
    "#version explicite\n",
    "from sqlalchemy import bindparam\n",
    "stmt = text(\"SELECT * FROM students WHERE students.name BETWEEN :x AND :y\")\n",
    "\n",
    "stmt = stmt.bindparams(\n",
    "   bindparam(\"x\", type_= String), \n",
    "   bindparam(\"y\", type_= String)\n",
    ")\n",
    "\n",
    "result = conn.execute(stmt, {\"x\": \"A\", \"y\": \"L\"})"
   ]
  },
  {
   "cell_type": "code",
   "execution_count": 15,
   "id": "5c2176af",
   "metadata": {},
   "outputs": [
    {
     "name": "stdout",
     "output_type": "stream",
     "text": [
      "2022-09-21 12:55:50,679 INFO sqlalchemy.engine.Engine SELECT students.name, students.lastname from students \n",
      "WHERE students.name between ? and ?\n",
      "2022-09-21 12:55:50,679 INFO sqlalchemy.engine.Engine [generated in 0.00394s] ('A', 'L')\n"
     ]
    },
    {
     "data": {
      "text/plain": [
       "[('Komal', 'Bhandari'),\n",
       " ('Abdul', 'Sattar'),\n",
       " ('Komal', 'Bhandari'),\n",
       " ('Abdul', 'Sattar'),\n",
       " ('Komal', 'Bhandari'),\n",
       " ('Abdul', 'Sattar'),\n",
       " ('Komal', 'Bhandari'),\n",
       " ('Abdul', 'Sattar'),\n",
       " ('Komal', 'Bhandari'),\n",
       " ('Abdul', 'Sattar'),\n",
       " ('Komal', 'Bhandari'),\n",
       " ('Abdul', 'Sattar'),\n",
       " ('Komal', 'Bhandari'),\n",
       " ('Abdul', 'Sattar')]"
      ]
     },
     "execution_count": 15,
     "metadata": {},
     "output_type": "execute_result"
    }
   ],
   "source": [
    "# encore une autre version\n",
    "from sqlalchemy.sql import select\n",
    "s = select([text(\"students.name, students.lastname from students\")]).where(text(\"students.name between :x and :y\"))\n",
    "conn.execute(s, x = 'A', y = 'L').fetchall()"
   ]
  },
  {
   "cell_type": "markdown",
   "id": "c2574800",
   "metadata": {},
   "source": [
    "#### You can also use and_() function to combine multiple conditions in WHERE clause created with the help of text() function."
   ]
  },
  {
   "cell_type": "code",
   "execution_count": 16,
   "id": "4dfd6130",
   "metadata": {},
   "outputs": [
    {
     "name": "stdout",
     "output_type": "stream",
     "text": [
      "2022-09-21 12:55:51,159 INFO sqlalchemy.engine.Engine SELECT * from students \n",
      "WHERE students.name between ? and ? AND students.id>2\n",
      "2022-09-21 12:55:51,159 INFO sqlalchemy.engine.Engine [generated in 0.00357s] ('A', 'L')\n"
     ]
    },
    {
     "data": {
      "text/plain": [
       "[(4, 'Komal', 'Bhandari'),\n",
       " (5, 'Abdul', 'Sattar'),\n",
       " (10, 'Komal', 'Bhandari'),\n",
       " (11, 'Abdul', 'Sattar'),\n",
       " (16, 'Komal', 'Bhandari'),\n",
       " (17, 'Abdul', 'Sattar'),\n",
       " (22, 'Komal', 'Bhandari'),\n",
       " (23, 'Abdul', 'Sattar'),\n",
       " (28, 'Komal', 'Bhandari'),\n",
       " (29, 'Abdul', 'Sattar'),\n",
       " (34, 'Komal', 'Bhandari'),\n",
       " (35, 'Abdul', 'Sattar'),\n",
       " (40, 'Komal', 'Bhandari'),\n",
       " (41, 'Abdul', 'Sattar')]"
      ]
     },
     "execution_count": 16,
     "metadata": {},
     "output_type": "execute_result"
    }
   ],
   "source": [
    "from sqlalchemy import and_\n",
    "from sqlalchemy.sql import select\n",
    "s = select([text(\"* from students\")]) \\\n",
    ".where(\n",
    "   and_(\n",
    "      text(\"students.name between :x and :y\"),\n",
    "      text(\"students.id>2\")\n",
    "   )\n",
    ")\n",
    "conn.execute(s, x = 'A', y = 'L').fetchall()"
   ]
  },
  {
   "cell_type": "markdown",
   "id": "3642d3ef",
   "metadata": {},
   "source": [
    "The update() method on target table object constructs equivalent UPDATE SQL expression."
   ]
  },
  {
   "cell_type": "code",
   "execution_count": 17,
   "id": "44974e2a",
   "metadata": {},
   "outputs": [],
   "source": [
    "stmt = students.update().where(students.c.lastname == 'Khanna').values(lastname = 'Kapoor')"
   ]
  },
  {
   "cell_type": "markdown",
   "id": "24e854d4",
   "metadata": {},
   "source": [
    "The bound parameter lastname_1 will be substituted when execute() method is invoked. The complete update code is given below −"
   ]
  },
  {
   "cell_type": "code",
   "execution_count": 18,
   "id": "66e7f88a",
   "metadata": {},
   "outputs": [
    {
     "name": "stdout",
     "output_type": "stream",
     "text": [
      "2022-09-21 12:55:52,328 INFO sqlalchemy.engine.Engine UPDATE students SET lastname=? WHERE students.lastname = ?\n",
      "2022-09-21 12:55:52,328 INFO sqlalchemy.engine.Engine [generated in 0.00452s] ('Kapoor', 'Khanna')\n",
      "2022-09-21 12:55:52,344 INFO sqlalchemy.engine.Engine COMMIT\n",
      "2022-09-21 12:55:52,352 INFO sqlalchemy.engine.Engine SELECT students.id, students.name, students.lastname \n",
      "FROM students\n",
      "2022-09-21 12:55:52,360 INFO sqlalchemy.engine.Engine [cached since 3.49s ago] ()\n"
     ]
    },
    {
     "data": {
      "text/plain": [
       "[(1, 'Ravi', 'Kapoor'),\n",
       " (2, 'Ravi', 'Kapoor'),\n",
       " (3, 'Rajiv', 'Kapoor'),\n",
       " (4, 'Komal', 'Bhandari'),\n",
       " (5, 'Abdul', 'Sattar'),\n",
       " (6, 'Priya', 'Rajhans'),\n",
       " (7, 'Ravi', 'Kapoor'),\n",
       " (8, 'Ravi', 'Kapoor'),\n",
       " (9, 'Rajiv', 'Kapoor'),\n",
       " (10, 'Komal', 'Bhandari'),\n",
       " (11, 'Abdul', 'Sattar'),\n",
       " (12, 'Priya', 'Rajhans'),\n",
       " (13, 'Ravi', 'Kapoor'),\n",
       " (14, 'Ravi', 'Kapoor'),\n",
       " (15, 'Rajiv', 'Kapoor'),\n",
       " (16, 'Komal', 'Bhandari'),\n",
       " (17, 'Abdul', 'Sattar'),\n",
       " (18, 'Priya', 'Rajhans'),\n",
       " (19, 'Ravi', 'Kapoor'),\n",
       " (20, 'Ravi', 'Kapoor'),\n",
       " (21, 'Rajiv', 'Kapoor'),\n",
       " (22, 'Komal', 'Bhandari'),\n",
       " (23, 'Abdul', 'Sattar'),\n",
       " (24, 'Priya', 'Rajhans'),\n",
       " (25, 'Ravi', 'Kapoor'),\n",
       " (26, 'Ravi', 'Kapoor'),\n",
       " (27, 'Rajiv', 'Kapoor'),\n",
       " (28, 'Komal', 'Bhandari'),\n",
       " (29, 'Abdul', 'Sattar'),\n",
       " (30, 'Priya', 'Rajhans'),\n",
       " (31, 'Ravi', 'Kapoor'),\n",
       " (32, 'Ravi', 'Kapoor'),\n",
       " (33, 'Rajiv', 'Kapoor'),\n",
       " (34, 'Komal', 'Bhandari'),\n",
       " (35, 'Abdul', 'Sattar'),\n",
       " (36, 'Priya', 'Rajhans'),\n",
       " (37, 'Ravi', 'Kapoor'),\n",
       " (38, 'Ravi', 'Kapoor'),\n",
       " (39, 'Rajiv', 'Kapoor'),\n",
       " (40, 'Komal', 'Bhandari'),\n",
       " (41, 'Abdul', 'Sattar'),\n",
       " (42, 'Priya', 'Rajhans')]"
      ]
     },
     "execution_count": 18,
     "metadata": {},
     "output_type": "execute_result"
    }
   ],
   "source": [
    " # on applique la transformation avec execute()\n",
    "conn.execute(stmt)\n",
    "# select() permet de récupérer tous les éléments de la table\n",
    "s = students.select()\n",
    "# permet d'afficher\n",
    "conn.execute(s).fetchall()"
   ]
  },
  {
   "cell_type": "code",
   "execution_count": 27,
   "id": "84a9c667",
   "metadata": {},
   "outputs": [
    {
     "name": "stdout",
     "output_type": "stream",
     "text": [
      "2022-09-21 13:11:16,055 INFO sqlalchemy.engine.Engine UPDATE students SET lastname=? WHERE students.lastname = ?\n",
      "2022-09-21 13:11:16,055 INFO sqlalchemy.engine.Engine [generated in 0.00396s] ('Kapoor', 'Khanna')\n",
      "2022-09-21 13:11:16,063 INFO sqlalchemy.engine.Engine COMMIT\n",
      "2022-09-21 13:11:16,071 INFO sqlalchemy.engine.Engine SELECT students.id, students.name, students.lastname \n",
      "FROM students\n",
      "2022-09-21 13:11:16,071 INFO sqlalchemy.engine.Engine [generated in 0.00264s] ()\n"
     ]
    },
    {
     "data": {
      "text/plain": [
       "[(1, 'Ravi', 'Kapoor'),\n",
       " (2, 'Ravi', 'Kapoor'),\n",
       " (3, 'Rajiv', 'Kapoor'),\n",
       " (4, 'Komal', 'Bhandari'),\n",
       " (5, 'Abdul', 'Sattar'),\n",
       " (6, 'Priya', 'Rajhans'),\n",
       " (7, 'Ravi', 'Kapoor'),\n",
       " (8, 'Ravi', 'Kapoor'),\n",
       " (9, 'Rajiv', 'Kapoor'),\n",
       " (10, 'Komal', 'Bhandari'),\n",
       " (11, 'Abdul', 'Sattar'),\n",
       " (12, 'Priya', 'Rajhans'),\n",
       " (13, 'Ravi', 'Kapoor'),\n",
       " (14, 'Ravi', 'Kapoor'),\n",
       " (15, 'Rajiv', 'Kapoor'),\n",
       " (16, 'Komal', 'Bhandari'),\n",
       " (17, 'Abdul', 'Sattar'),\n",
       " (18, 'Priya', 'Rajhans'),\n",
       " (19, 'Ravi', 'Kapoor'),\n",
       " (20, 'Ravi', 'Kapoor'),\n",
       " (21, 'Rajiv', 'Kapoor'),\n",
       " (22, 'Komal', 'Bhandari'),\n",
       " (23, 'Abdul', 'Sattar'),\n",
       " (24, 'Priya', 'Rajhans'),\n",
       " (25, 'Ravi', 'Kapoor'),\n",
       " (26, 'Ravi', 'Kapoor'),\n",
       " (27, 'Rajiv', 'Kapoor'),\n",
       " (28, 'Komal', 'Bhandari'),\n",
       " (29, 'Abdul', 'Sattar'),\n",
       " (30, 'Priya', 'Rajhans'),\n",
       " (31, 'Ravi', 'Kapoor'),\n",
       " (32, 'Ravi', 'Kapoor'),\n",
       " (33, 'Rajiv', 'Kapoor'),\n",
       " (34, 'Komal', 'Bhandari'),\n",
       " (35, 'Abdul', 'Sattar'),\n",
       " (36, 'Priya', 'Rajhans'),\n",
       " (37, 'Ravi', 'Kapoor'),\n",
       " (38, 'Ravi', 'Kapoor'),\n",
       " (39, 'Rajiv', 'Kapoor'),\n",
       " (40, 'Komal', 'Bhandari'),\n",
       " (41, 'Abdul', 'Sattar'),\n",
       " (42, 'Priya', 'Rajhans')]"
      ]
     },
     "execution_count": 27,
     "metadata": {},
     "output_type": "execute_result"
    }
   ],
   "source": [
    "from sqlalchemy import create_engine, MetaData, Table, Column, Integer, String\n",
    "engine = create_engine('sqlite:///college.db', echo = True)\n",
    "meta = MetaData()\n",
    "\n",
    "students = Table(\n",
    "   'students', \n",
    "   meta, \n",
    "   Column('id', Integer, primary_key = True), \n",
    "   Column('name', String), \n",
    "   Column('lastname', String), \n",
    ")\n",
    "\n",
    "conn = engine.connect()\n",
    "stmt=students.update().where(students.c.lastname=='Khanna').values(lastname='Kapoor')\n",
    "conn.execute(stmt)\n",
    "s = students.select()\n",
    "conn.execute(s).fetchall()"
   ]
  },
  {
   "cell_type": "markdown",
   "id": "8ea9d36f",
   "metadata": {},
   "source": [
    "# DELETE\n",
    "In the previous chapter, we have understood what an Update expression does. The next expression that we are going to learn is Delete."
   ]
  },
  {
   "cell_type": "code",
   "execution_count": 28,
   "id": "e591bd0d",
   "metadata": {},
   "outputs": [],
   "source": [
    "stmt = students.delete()"
   ]
  },
  {
   "cell_type": "code",
   "execution_count": 29,
   "id": "c051a7ec",
   "metadata": {},
   "outputs": [],
   "source": [
    "stmt = students.delete().where(students.c.id > 2)"
   ]
  },
  {
   "cell_type": "code",
   "execution_count": 31,
   "id": "4f6cf5f1",
   "metadata": {},
   "outputs": [
    {
     "name": "stdout",
     "output_type": "stream",
     "text": [
      "2022-09-21 13:11:35,309 INFO sqlalchemy.engine.Engine DELETE FROM students WHERE students.lastname = ?\n",
      "2022-09-21 13:11:35,309 INFO sqlalchemy.engine.Engine [generated in 0.00314s] ('Kapoor',)\n",
      "2022-09-21 13:11:35,317 INFO sqlalchemy.engine.Engine COMMIT\n",
      "2022-09-21 13:11:35,325 INFO sqlalchemy.engine.Engine SELECT students.id, students.name, students.lastname \n",
      "FROM students\n",
      "2022-09-21 13:11:35,333 INFO sqlalchemy.engine.Engine [generated in 0.00224s] ()\n"
     ]
    },
    {
     "data": {
      "text/plain": [
       "[(4, 'Komal', 'Bhandari'),\n",
       " (5, 'Abdul', 'Sattar'),\n",
       " (6, 'Priya', 'Rajhans'),\n",
       " (10, 'Komal', 'Bhandari'),\n",
       " (11, 'Abdul', 'Sattar'),\n",
       " (12, 'Priya', 'Rajhans'),\n",
       " (16, 'Komal', 'Bhandari'),\n",
       " (17, 'Abdul', 'Sattar'),\n",
       " (18, 'Priya', 'Rajhans'),\n",
       " (22, 'Komal', 'Bhandari'),\n",
       " (23, 'Abdul', 'Sattar'),\n",
       " (24, 'Priya', 'Rajhans'),\n",
       " (28, 'Komal', 'Bhandari'),\n",
       " (29, 'Abdul', 'Sattar'),\n",
       " (30, 'Priya', 'Rajhans'),\n",
       " (34, 'Komal', 'Bhandari'),\n",
       " (35, 'Abdul', 'Sattar'),\n",
       " (36, 'Priya', 'Rajhans'),\n",
       " (40, 'Komal', 'Bhandari'),\n",
       " (41, 'Abdul', 'Sattar'),\n",
       " (42, 'Priya', 'Rajhans')]"
      ]
     },
     "execution_count": 31,
     "metadata": {},
     "output_type": "execute_result"
    }
   ],
   "source": [
    "from sqlalchemy.sql.expression import update\n",
    "from sqlalchemy import create_engine, MetaData, Table, Column, Integer, String\n",
    "engine = create_engine('sqlite:///college.db', echo = True)\n",
    "\n",
    "meta = MetaData()\n",
    "\n",
    "students = Table(\n",
    "   'students', meta, \n",
    "   Column('id', Integer, primary_key = True), \n",
    "   Column('name', String), \n",
    "   Column('lastname', String), \n",
    ")\n",
    "\n",
    "conn = engine.connect()\n",
    "stmt = students.delete().where(students.c.lastname == 'Kapoor')\n",
    "conn.execute(stmt)\n",
    "s = students.select()\n",
    "conn.execute(s).fetchall()"
   ]
  },
  {
   "cell_type": "markdown",
   "id": "101c9cd0",
   "metadata": {},
   "source": [
    "## One of the important features of RDBMS is establishing relation between tables.\n",
    "\n",
    "SQL operations like SELECT, UPDATE and DELETE can be performed on related tables. This section describes these operations using SQLAlchemy.\n",
    "For this purpose, two tables are created in our SQLite database (college.db). The students table has the same structure as given in the previous section; whereas the addresses table has st_id column which is mapped to id column in students table using foreign key constraint.\n",
    "The following code will create two tables in college.db −"
   ]
  },
  {
   "cell_type": "code",
   "execution_count": 32,
   "id": "4d20ca3e",
   "metadata": {},
   "outputs": [
    {
     "name": "stdout",
     "output_type": "stream",
     "text": [
      "2022-09-21 13:12:54,222 INFO sqlalchemy.engine.Engine BEGIN (implicit)\n",
      "2022-09-21 13:12:54,222 INFO sqlalchemy.engine.Engine PRAGMA main.table_info(\"students\")\n",
      "2022-09-21 13:12:54,230 INFO sqlalchemy.engine.Engine [raw sql] ()\n",
      "2022-09-21 13:12:54,238 INFO sqlalchemy.engine.Engine PRAGMA main.table_info(\"addresses\")\n",
      "2022-09-21 13:12:54,238 INFO sqlalchemy.engine.Engine [raw sql] ()\n",
      "2022-09-21 13:12:54,246 INFO sqlalchemy.engine.Engine PRAGMA temp.table_info(\"addresses\")\n",
      "2022-09-21 13:12:54,246 INFO sqlalchemy.engine.Engine [raw sql] ()\n",
      "2022-09-21 13:12:54,254 INFO sqlalchemy.engine.Engine \n",
      "CREATE TABLE addresses (\n",
      "\tid INTEGER NOT NULL, \n",
      "\tst_id INTEGER, \n",
      "\tpostal_add VARCHAR, \n",
      "\temail_add VARCHAR, \n",
      "\tPRIMARY KEY (id), \n",
      "\tFOREIGN KEY(st_id) REFERENCES students (id)\n",
      ")\n",
      "\n",
      "\n",
      "2022-09-21 13:12:54,254 INFO sqlalchemy.engine.Engine [no key 0.00259s] ()\n",
      "2022-09-21 13:12:54,270 INFO sqlalchemy.engine.Engine COMMIT\n"
     ]
    }
   ],
   "source": [
    "from sqlalchemy import create_engine, MetaData, Table, Column, Integer, String, ForeignKey\n",
    "engine = create_engine('sqlite:///college.db', echo=True)\n",
    "meta = MetaData()\n",
    "\n",
    "students = Table(\n",
    "   'students', meta, \n",
    "   Column('id', Integer, primary_key = True), \n",
    "   Column('name', String), \n",
    "   Column('lastname', String), \n",
    ")\n",
    "\n",
    "addresses = Table(\n",
    "   'addresses', meta, \n",
    "   Column('id', Integer, primary_key = True), \n",
    "   Column('st_id', Integer, ForeignKey('students.id')), \n",
    "   Column('postal_add', String), \n",
    "   Column('email_add', String))\n",
    "\n",
    "meta.create_all(engine)"
   ]
  },
  {
   "cell_type": "markdown",
   "id": "6d01ba84",
   "metadata": {},
   "source": [
    "These tables are populated with data by executing insert() method of table objects. To insert 5 rows in students table, you can use the code given below"
   ]
  },
  {
   "cell_type": "code",
   "execution_count": 36,
   "id": "9372a511",
   "metadata": {},
   "outputs": [
    {
     "name": "stdout",
     "output_type": "stream",
     "text": [
      "2022-09-21 13:16:06,318 INFO sqlalchemy.engine.Engine INSERT INTO students (name, lastname) VALUES (?, ?)\n",
      "2022-09-21 13:16:06,326 INFO sqlalchemy.engine.Engine [generated in 0.00442s] (('Ravi', 'Kapoor'), ('Rajiv', 'Khanna'), ('Komal', 'Bhandari'), ('Abdul', 'Sattar'), ('Priya', 'Rajhans'))\n",
      "2022-09-21 13:16:06,334 INFO sqlalchemy.engine.Engine COMMIT\n"
     ]
    },
    {
     "data": {
      "text/plain": [
       "<sqlalchemy.engine.cursor.LegacyCursorResult at 0x1a26b638430>"
      ]
     },
     "execution_count": 36,
     "metadata": {},
     "output_type": "execute_result"
    }
   ],
   "source": [
    "from sqlalchemy import create_engine, MetaData, Table, Column, Integer, String\n",
    "engine = create_engine('sqlite:///college.db', echo = True)\n",
    "meta = MetaData()\n",
    "\n",
    "conn = engine.connect()\n",
    "students = Table(\n",
    "   'students', meta, \n",
    "   Column('id', Integer, primary_key = True), \n",
    "   Column('name', String), \n",
    "   Column('lastname', String), \n",
    ")\n",
    "\n",
    "conn.execute(students.insert(), [\n",
    "   {'name':'Ravi', 'lastname':'Kapoor'},\n",
    "   {'name':'Rajiv', 'lastname' : 'Khanna'},\n",
    "   {'name':'Komal','lastname' : 'Bhandari'},\n",
    "   {'name':'Abdul','lastname' : 'Sattar'},\n",
    "   {'name':'Priya','lastname' : 'Rajhans'},\n",
    "])"
   ]
  },
  {
   "cell_type": "markdown",
   "id": "ca5ca84e",
   "metadata": {},
   "source": [
    "Rows are added in **addresses table** with the help of the following code"
   ]
  },
  {
   "cell_type": "code",
   "execution_count": 37,
   "id": "48662fd1",
   "metadata": {},
   "outputs": [
    {
     "name": "stdout",
     "output_type": "stream",
     "text": [
      "2022-09-21 13:17:47,954 INFO sqlalchemy.engine.Engine INSERT INTO addresses (st_id, postal_add, email_add) VALUES (?, ?, ?)\n",
      "2022-09-21 13:17:47,954 INFO sqlalchemy.engine.Engine [generated in 0.00238s] ((1, 'Shivajinagar Pune', 'ravi@gmail.com'), (1, 'ChurchGate Mumbai', 'kapoor@gmail.com'), (3, 'Jubilee Hills Hyderabad', 'komal@gmail.com'), (5, 'MG Road Bangaluru', 'as@yahoo.com'), (2, 'Cannought Place new Delhi', 'admin@khanna.com'))\n",
      "2022-09-21 13:17:47,962 INFO sqlalchemy.engine.Engine COMMIT\n"
     ]
    },
    {
     "data": {
      "text/plain": [
       "<sqlalchemy.engine.cursor.LegacyCursorResult at 0x1a270f81be0>"
      ]
     },
     "execution_count": 37,
     "metadata": {},
     "output_type": "execute_result"
    }
   ],
   "source": [
    "from sqlalchemy import create_engine, MetaData, Table, Column, Integer, String\n",
    "engine = create_engine('sqlite:///college.db', echo = True)\n",
    "meta = MetaData()\n",
    "conn = engine.connect()\n",
    "\n",
    "addresses = Table(\n",
    "   'addresses', meta, \n",
    "   Column('id', Integer, primary_key = True), \n",
    "   Column('st_id', Integer), \n",
    "   Column('postal_add', String), \n",
    "   Column('email_add', String)\n",
    ")\n",
    "\n",
    "conn.execute(addresses.insert(), [\n",
    "   {'st_id':1, 'postal_add':'Shivajinagar Pune', 'email_add':'ravi@gmail.com'},\n",
    "   {'st_id':1, 'postal_add':'ChurchGate Mumbai', 'email_add':'kapoor@gmail.com'},\n",
    "   {'st_id':3, 'postal_add':'Jubilee Hills Hyderabad', 'email_add':'komal@gmail.com'},\n",
    "   {'st_id':5, 'postal_add':'MG Road Bangaluru', 'email_add':'as@yahoo.com'},\n",
    "   {'st_id':2, 'postal_add':'Cannought Place new Delhi', 'email_add':'admin@khanna.com'},\n",
    "])"
   ]
  },
  {
   "cell_type": "code",
   "execution_count": 38,
   "id": "96c3bb37",
   "metadata": {},
   "outputs": [
    {
     "name": "stdout",
     "output_type": "stream",
     "text": [
      "2022-09-21 13:18:19,046 INFO sqlalchemy.engine.Engine SELECT students.id, students.name, students.lastname, addresses.id AS id_1, addresses.st_id, addresses.postal_add, addresses.email_add \n",
      "FROM students, addresses \n",
      "WHERE students.id = addresses.st_id\n",
      "2022-09-21 13:18:19,046 INFO sqlalchemy.engine.Engine [generated in 0.00426s] ()\n",
      "(5, 'Abdul', 'Sattar', 4, 5, 'MG Road Bangaluru', 'as@yahoo.com')\n"
     ]
    }
   ],
   "source": [
    "from sqlalchemy.sql import select\n",
    "s = select([students, addresses]).where(students.c.id == addresses.c.st_id)\n",
    "result = conn.execute(s)\n",
    "\n",
    "for row in result:\n",
    "   print (row)"
   ]
  },
  {
   "cell_type": "code",
   "execution_count": 39,
   "id": "2bd21272",
   "metadata": {},
   "outputs": [
    {
     "name": "stdout",
     "output_type": "stream",
     "text": [
      "2022-09-21 13:19:18,720 INFO sqlalchemy.engine.Engine SELECT students.id, students.name, students.lastname \n",
      "FROM students\n",
      "2022-09-21 13:19:18,728 INFO sqlalchemy.engine.Engine [generated in 0.00348s] ()\n"
     ]
    },
    {
     "data": {
      "text/plain": [
       "[(4, 'Komal', 'Bhandari'),\n",
       " (5, 'Abdul', 'Sattar'),\n",
       " (6, 'Priya', 'Rajhans'),\n",
       " (10, 'Komal', 'Bhandari'),\n",
       " (11, 'Abdul', 'Sattar'),\n",
       " (12, 'Priya', 'Rajhans'),\n",
       " (16, 'Komal', 'Bhandari'),\n",
       " (17, 'Abdul', 'Sattar'),\n",
       " (18, 'Priya', 'Rajhans'),\n",
       " (22, 'Komal', 'Bhandari'),\n",
       " (23, 'Abdul', 'Sattar'),\n",
       " (24, 'Priya', 'Rajhans'),\n",
       " (28, 'Komal', 'Bhandari'),\n",
       " (29, 'Abdul', 'Sattar'),\n",
       " (30, 'Priya', 'Rajhans'),\n",
       " (34, 'Komal', 'Bhandari'),\n",
       " (35, 'Abdul', 'Sattar'),\n",
       " (36, 'Priya', 'Rajhans'),\n",
       " (40, 'Komal', 'Bhandari'),\n",
       " (41, 'Abdul', 'Sattar'),\n",
       " (42, 'Priya', 'Rajhans'),\n",
       " (43, 'Ravi', 'Kapoor'),\n",
       " (44, 'Rajiv', 'Khanna'),\n",
       " (45, 'Komal', 'Bhandari'),\n",
       " (46, 'Abdul', 'Sattar'),\n",
       " (47, 'Priya', 'Rajhans')]"
      ]
     },
     "execution_count": 39,
     "metadata": {},
     "output_type": "execute_result"
    }
   ],
   "source": [
    "s = students.select()\n",
    "conn.execute(s).fetchall()"
   ]
  },
  {
   "cell_type": "code",
   "execution_count": null,
   "id": "05aa1ad4",
   "metadata": {},
   "outputs": [],
   "source": []
  }
 ],
 "metadata": {
  "kernelspec": {
   "display_name": "pymdu",
   "language": "python",
   "name": "pymdu"
  },
  "language_info": {
   "codemirror_mode": {
    "name": "ipython",
    "version": 3
   },
   "file_extension": ".py",
   "mimetype": "text/x-python",
   "name": "python",
   "nbconvert_exporter": "python",
   "pygments_lexer": "ipython3",
   "version": "3.9.13"
  }
 },
 "nbformat": 4,
 "nbformat_minor": 5
}
